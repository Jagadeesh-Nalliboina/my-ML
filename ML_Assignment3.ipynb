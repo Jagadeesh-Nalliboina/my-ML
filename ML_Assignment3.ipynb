{
 "cells": [
  {
   "cell_type": "markdown",
   "id": "511a0b92",
   "metadata": {},
   "source": [
    "# Question1 - Titanic Dataset"
   ]
  },
  {
   "cell_type": "markdown",
   "id": "ad93bd6d",
   "metadata": {},
   "source": [
    "**1. Find the correlation between ‘survived’ (target column) and ‘sex’ column for the Titanic use case in class.**"
   ]
  },
  {
   "cell_type": "code",
   "execution_count": 87,
   "id": "902d4633",
   "metadata": {},
   "outputs": [],
   "source": [
    "import pandas as pd\n",
    "import seaborn as sns\n",
    "from sklearn import preprocessing\n",
    "import matplotlib.pyplot as plt"
   ]
  },
  {
   "cell_type": "code",
   "execution_count": 88,
   "id": "fc3335df",
   "metadata": {},
   "outputs": [],
   "source": [
    "df=pd.read_csv(\"train.csv\")"
   ]
  },
  {
   "cell_type": "code",
   "execution_count": null,
   "id": "e0493dc7",
   "metadata": {},
   "outputs": [],
   "source": [
    "df.head()"
   ]
  },
  {
   "cell_type": "code",
   "execution_count": 90,
   "id": "bf6edae3",
   "metadata": {},
   "outputs": [
    {
     "data": {
      "text/plain": [
       "-0.5433513806577553"
      ]
     },
     "execution_count": 90,
     "metadata": {},
     "output_type": "execute_result"
    }
   ],
   "source": [
    "le = preprocessing.LabelEncoder()\n",
    "df['Sex'] = le.fit_transform(df.Sex.values)\n",
    "df['Survived'].corr(df['Sex'])"
   ]
  },
  {
   "cell_type": "markdown",
   "id": "e0bd49b0",
   "metadata": {},
   "source": [
    "**a. Do you think we should keep this feature?**"
   ]
  },
  {
   "cell_type": "markdown",
   "id": "50124fac",
   "metadata": {},
   "source": [
    "A negative (inverse) correlation occurs when the correlation coefficient is less than 0. This is an indication that both variables move in the opposite direction. In short, any reading between 0 and -1 means that the two securities move in opposite directions. If one variable increases, the other variable decreases with the same magnitude (and vice versa). However, the degree to which two securities are negatively correlated might vary over time (and they are almost never exactly correlated all the time). \n",
    "Removing a correlated feature does not make any difference in the outcome of the model. It is always better to remove the highly correlated features first and then least correlated ones."
   ]
  },
  {
   "cell_type": "markdown",
   "id": "ae0d9d4d",
   "metadata": {},
   "source": [
    "**2. Do at least two visualizations to describe or show correlations.**"
   ]
  },
  {
   "cell_type": "code",
   "execution_count": 91,
   "id": "cbace8f2",
   "metadata": {},
   "outputs": [
    {
     "data": {
      "text/html": [
       "<style type=\"text/css\">\n",
       "#T_65adc_row0_col0, #T_65adc_row1_col1, #T_65adc_row2_col2, #T_65adc_row3_col3, #T_65adc_row4_col4, #T_65adc_row5_col5, #T_65adc_row6_col6, #T_65adc_row7_col7 {\n",
       "  background-color: #00441b;\n",
       "  color: #f1f1f1;\n",
       "}\n",
       "#T_65adc_row0_col1 {\n",
       "  background-color: #a9dca3;\n",
       "  color: #000000;\n",
       "}\n",
       "#T_65adc_row0_col2, #T_65adc_row5_col1 {\n",
       "  background-color: #afdfa8;\n",
       "  color: #000000;\n",
       "}\n",
       "#T_65adc_row0_col3 {\n",
       "  background-color: #9fd899;\n",
       "  color: #000000;\n",
       "}\n",
       "#T_65adc_row0_col4 {\n",
       "  background-color: #bae3b3;\n",
       "  color: #000000;\n",
       "}\n",
       "#T_65adc_row0_col5, #T_65adc_row6_col3 {\n",
       "  background-color: #d5efcf;\n",
       "  color: #000000;\n",
       "}\n",
       "#T_65adc_row0_col6 {\n",
       "  background-color: #d4eece;\n",
       "  color: #000000;\n",
       "}\n",
       "#T_65adc_row0_col7 {\n",
       "  background-color: #a5db9f;\n",
       "  color: #000000;\n",
       "}\n",
       "#T_65adc_row1_col0 {\n",
       "  background-color: #f0f9ed;\n",
       "  color: #000000;\n",
       "}\n",
       "#T_65adc_row1_col2 {\n",
       "  background-color: #e3f4de;\n",
       "  color: #000000;\n",
       "}\n",
       "#T_65adc_row1_col3, #T_65adc_row2_col4, #T_65adc_row2_col7, #T_65adc_row3_col1, #T_65adc_row3_col6, #T_65adc_row4_col5, #T_65adc_row5_col0, #T_65adc_row7_col2 {\n",
       "  background-color: #f7fcf5;\n",
       "  color: #000000;\n",
       "}\n",
       "#T_65adc_row1_col4, #T_65adc_row2_col6 {\n",
       "  background-color: #d0edca;\n",
       "  color: #000000;\n",
       "}\n",
       "#T_65adc_row1_col5 {\n",
       "  background-color: #d1edcb;\n",
       "  color: #000000;\n",
       "}\n",
       "#T_65adc_row1_col6 {\n",
       "  background-color: #c3e7bc;\n",
       "  color: #000000;\n",
       "}\n",
       "#T_65adc_row1_col7 {\n",
       "  background-color: #6bc072;\n",
       "  color: #000000;\n",
       "}\n",
       "#T_65adc_row2_col0 {\n",
       "  background-color: #f4fbf2;\n",
       "  color: #000000;\n",
       "}\n",
       "#T_65adc_row2_col1, #T_65adc_row6_col4 {\n",
       "  background-color: #e4f5df;\n",
       "  color: #000000;\n",
       "}\n",
       "#T_65adc_row2_col3, #T_65adc_row3_col2 {\n",
       "  background-color: #8ace88;\n",
       "  color: #000000;\n",
       "}\n",
       "#T_65adc_row2_col5 {\n",
       "  background-color: #b8e3b2;\n",
       "  color: #000000;\n",
       "}\n",
       "#T_65adc_row3_col0 {\n",
       "  background-color: #e9f7e5;\n",
       "  color: #000000;\n",
       "}\n",
       "#T_65adc_row3_col4, #T_65adc_row7_col4 {\n",
       "  background-color: #acdea6;\n",
       "  color: #000000;\n",
       "}\n",
       "#T_65adc_row3_col5 {\n",
       "  background-color: #e0f3db;\n",
       "  color: #000000;\n",
       "}\n",
       "#T_65adc_row3_col7 {\n",
       "  background-color: #cbeac4;\n",
       "  color: #000000;\n",
       "}\n",
       "#T_65adc_row4_col0 {\n",
       "  background-color: #ebf7e7;\n",
       "  color: #000000;\n",
       "}\n",
       "#T_65adc_row4_col1 {\n",
       "  background-color: #b7e2b1;\n",
       "  color: #000000;\n",
       "}\n",
       "#T_65adc_row4_col2 {\n",
       "  background-color: #e7f6e2;\n",
       "  color: #000000;\n",
       "}\n",
       "#T_65adc_row4_col3 {\n",
       "  background-color: #94d390;\n",
       "  color: #000000;\n",
       "}\n",
       "#T_65adc_row4_col6, #T_65adc_row5_col4 {\n",
       "  background-color: #f1faee;\n",
       "  color: #000000;\n",
       "}\n",
       "#T_65adc_row4_col7 {\n",
       "  background-color: #92d28f;\n",
       "  color: #000000;\n",
       "}\n",
       "#T_65adc_row5_col2 {\n",
       "  background-color: #95d391;\n",
       "  color: #000000;\n",
       "}\n",
       "#T_65adc_row5_col3 {\n",
       "  background-color: #bee5b8;\n",
       "  color: #000000;\n",
       "}\n",
       "#T_65adc_row5_col6 {\n",
       "  background-color: #68be70;\n",
       "  color: #000000;\n",
       "}\n",
       "#T_65adc_row5_col7 {\n",
       "  background-color: #83cb82;\n",
       "  color: #000000;\n",
       "}\n",
       "#T_65adc_row6_col0 {\n",
       "  background-color: #f0f9ec;\n",
       "  color: #000000;\n",
       "}\n",
       "#T_65adc_row6_col1 {\n",
       "  background-color: #97d492;\n",
       "  color: #000000;\n",
       "}\n",
       "#T_65adc_row6_col2 {\n",
       "  background-color: #a4da9e;\n",
       "  color: #000000;\n",
       "}\n",
       "#T_65adc_row6_col5 {\n",
       "  background-color: #5eb96b;\n",
       "  color: #f1f1f1;\n",
       "}\n",
       "#T_65adc_row6_col7 {\n",
       "  background-color: #76c578;\n",
       "  color: #000000;\n",
       "}\n",
       "#T_65adc_row7_col0 {\n",
       "  background-color: #eef8ea;\n",
       "  color: #000000;\n",
       "}\n",
       "#T_65adc_row7_col1 {\n",
       "  background-color: #6dc072;\n",
       "  color: #000000;\n",
       "}\n",
       "#T_65adc_row7_col3 {\n",
       "  background-color: #cbebc5;\n",
       "  color: #000000;\n",
       "}\n",
       "#T_65adc_row7_col5 {\n",
       "  background-color: #a7dba0;\n",
       "  color: #000000;\n",
       "}\n",
       "#T_65adc_row7_col6 {\n",
       "  background-color: #a3da9d;\n",
       "  color: #000000;\n",
       "}\n",
       "</style>\n",
       "<table id=\"T_65adc\">\n",
       "  <thead>\n",
       "    <tr>\n",
       "      <th class=\"blank level0\" >&nbsp;</th>\n",
       "      <th id=\"T_65adc_level0_col0\" class=\"col_heading level0 col0\" >PassengerId</th>\n",
       "      <th id=\"T_65adc_level0_col1\" class=\"col_heading level0 col1\" >Survived</th>\n",
       "      <th id=\"T_65adc_level0_col2\" class=\"col_heading level0 col2\" >Pclass</th>\n",
       "      <th id=\"T_65adc_level0_col3\" class=\"col_heading level0 col3\" >Sex</th>\n",
       "      <th id=\"T_65adc_level0_col4\" class=\"col_heading level0 col4\" >Age</th>\n",
       "      <th id=\"T_65adc_level0_col5\" class=\"col_heading level0 col5\" >SibSp</th>\n",
       "      <th id=\"T_65adc_level0_col6\" class=\"col_heading level0 col6\" >Parch</th>\n",
       "      <th id=\"T_65adc_level0_col7\" class=\"col_heading level0 col7\" >Fare</th>\n",
       "    </tr>\n",
       "  </thead>\n",
       "  <tbody>\n",
       "    <tr>\n",
       "      <th id=\"T_65adc_level0_row0\" class=\"row_heading level0 row0\" >PassengerId</th>\n",
       "      <td id=\"T_65adc_row0_col0\" class=\"data row0 col0\" >1.000000</td>\n",
       "      <td id=\"T_65adc_row0_col1\" class=\"data row0 col1\" >-0.005007</td>\n",
       "      <td id=\"T_65adc_row0_col2\" class=\"data row0 col2\" >-0.035144</td>\n",
       "      <td id=\"T_65adc_row0_col3\" class=\"data row0 col3\" >0.042939</td>\n",
       "      <td id=\"T_65adc_row0_col4\" class=\"data row0 col4\" >0.036847</td>\n",
       "      <td id=\"T_65adc_row0_col5\" class=\"data row0 col5\" >-0.057527</td>\n",
       "      <td id=\"T_65adc_row0_col6\" class=\"data row0 col6\" >-0.001652</td>\n",
       "      <td id=\"T_65adc_row0_col7\" class=\"data row0 col7\" >0.012658</td>\n",
       "    </tr>\n",
       "    <tr>\n",
       "      <th id=\"T_65adc_level0_row1\" class=\"row_heading level0 row1\" >Survived</th>\n",
       "      <td id=\"T_65adc_row1_col0\" class=\"data row1 col0\" >-0.005007</td>\n",
       "      <td id=\"T_65adc_row1_col1\" class=\"data row1 col1\" >1.000000</td>\n",
       "      <td id=\"T_65adc_row1_col2\" class=\"data row1 col2\" >-0.338481</td>\n",
       "      <td id=\"T_65adc_row1_col3\" class=\"data row1 col3\" >-0.543351</td>\n",
       "      <td id=\"T_65adc_row1_col4\" class=\"data row1 col4\" >-0.077221</td>\n",
       "      <td id=\"T_65adc_row1_col5\" class=\"data row1 col5\" >-0.035322</td>\n",
       "      <td id=\"T_65adc_row1_col6\" class=\"data row1 col6\" >0.081629</td>\n",
       "      <td id=\"T_65adc_row1_col7\" class=\"data row1 col7\" >0.257307</td>\n",
       "    </tr>\n",
       "    <tr>\n",
       "      <th id=\"T_65adc_level0_row2\" class=\"row_heading level0 row2\" >Pclass</th>\n",
       "      <td id=\"T_65adc_row2_col0\" class=\"data row2 col0\" >-0.035144</td>\n",
       "      <td id=\"T_65adc_row2_col1\" class=\"data row2 col1\" >-0.338481</td>\n",
       "      <td id=\"T_65adc_row2_col2\" class=\"data row2 col2\" >1.000000</td>\n",
       "      <td id=\"T_65adc_row2_col3\" class=\"data row2 col3\" >0.131900</td>\n",
       "      <td id=\"T_65adc_row2_col4\" class=\"data row2 col4\" >-0.369226</td>\n",
       "      <td id=\"T_65adc_row2_col5\" class=\"data row2 col5\" >0.083081</td>\n",
       "      <td id=\"T_65adc_row2_col6\" class=\"data row2 col6\" >0.018443</td>\n",
       "      <td id=\"T_65adc_row2_col7\" class=\"data row2 col7\" >-0.549500</td>\n",
       "    </tr>\n",
       "    <tr>\n",
       "      <th id=\"T_65adc_level0_row3\" class=\"row_heading level0 row3\" >Sex</th>\n",
       "      <td id=\"T_65adc_row3_col0\" class=\"data row3 col0\" >0.042939</td>\n",
       "      <td id=\"T_65adc_row3_col1\" class=\"data row3 col1\" >-0.543351</td>\n",
       "      <td id=\"T_65adc_row3_col2\" class=\"data row3 col2\" >0.131900</td>\n",
       "      <td id=\"T_65adc_row3_col3\" class=\"data row3 col3\" >1.000000</td>\n",
       "      <td id=\"T_65adc_row3_col4\" class=\"data row3 col4\" >0.093254</td>\n",
       "      <td id=\"T_65adc_row3_col5\" class=\"data row3 col5\" >-0.114631</td>\n",
       "      <td id=\"T_65adc_row3_col6\" class=\"data row3 col6\" >-0.245489</td>\n",
       "      <td id=\"T_65adc_row3_col7\" class=\"data row3 col7\" >-0.182333</td>\n",
       "    </tr>\n",
       "    <tr>\n",
       "      <th id=\"T_65adc_level0_row4\" class=\"row_heading level0 row4\" >Age</th>\n",
       "      <td id=\"T_65adc_row4_col0\" class=\"data row4 col0\" >0.036847</td>\n",
       "      <td id=\"T_65adc_row4_col1\" class=\"data row4 col1\" >-0.077221</td>\n",
       "      <td id=\"T_65adc_row4_col2\" class=\"data row4 col2\" >-0.369226</td>\n",
       "      <td id=\"T_65adc_row4_col3\" class=\"data row4 col3\" >0.093254</td>\n",
       "      <td id=\"T_65adc_row4_col4\" class=\"data row4 col4\" >1.000000</td>\n",
       "      <td id=\"T_65adc_row4_col5\" class=\"data row4 col5\" >-0.308247</td>\n",
       "      <td id=\"T_65adc_row4_col6\" class=\"data row4 col6\" >-0.189119</td>\n",
       "      <td id=\"T_65adc_row4_col7\" class=\"data row4 col7\" >0.096067</td>\n",
       "    </tr>\n",
       "    <tr>\n",
       "      <th id=\"T_65adc_level0_row5\" class=\"row_heading level0 row5\" >SibSp</th>\n",
       "      <td id=\"T_65adc_row5_col0\" class=\"data row5 col0\" >-0.057527</td>\n",
       "      <td id=\"T_65adc_row5_col1\" class=\"data row5 col1\" >-0.035322</td>\n",
       "      <td id=\"T_65adc_row5_col2\" class=\"data row5 col2\" >0.083081</td>\n",
       "      <td id=\"T_65adc_row5_col3\" class=\"data row5 col3\" >-0.114631</td>\n",
       "      <td id=\"T_65adc_row5_col4\" class=\"data row5 col4\" >-0.308247</td>\n",
       "      <td id=\"T_65adc_row5_col5\" class=\"data row5 col5\" >1.000000</td>\n",
       "      <td id=\"T_65adc_row5_col6\" class=\"data row5 col6\" >0.414838</td>\n",
       "      <td id=\"T_65adc_row5_col7\" class=\"data row5 col7\" >0.159651</td>\n",
       "    </tr>\n",
       "    <tr>\n",
       "      <th id=\"T_65adc_level0_row6\" class=\"row_heading level0 row6\" >Parch</th>\n",
       "      <td id=\"T_65adc_row6_col0\" class=\"data row6 col0\" >-0.001652</td>\n",
       "      <td id=\"T_65adc_row6_col1\" class=\"data row6 col1\" >0.081629</td>\n",
       "      <td id=\"T_65adc_row6_col2\" class=\"data row6 col2\" >0.018443</td>\n",
       "      <td id=\"T_65adc_row6_col3\" class=\"data row6 col3\" >-0.245489</td>\n",
       "      <td id=\"T_65adc_row6_col4\" class=\"data row6 col4\" >-0.189119</td>\n",
       "      <td id=\"T_65adc_row6_col5\" class=\"data row6 col5\" >0.414838</td>\n",
       "      <td id=\"T_65adc_row6_col6\" class=\"data row6 col6\" >1.000000</td>\n",
       "      <td id=\"T_65adc_row6_col7\" class=\"data row6 col7\" >0.216225</td>\n",
       "    </tr>\n",
       "    <tr>\n",
       "      <th id=\"T_65adc_level0_row7\" class=\"row_heading level0 row7\" >Fare</th>\n",
       "      <td id=\"T_65adc_row7_col0\" class=\"data row7 col0\" >0.012658</td>\n",
       "      <td id=\"T_65adc_row7_col1\" class=\"data row7 col1\" >0.257307</td>\n",
       "      <td id=\"T_65adc_row7_col2\" class=\"data row7 col2\" >-0.549500</td>\n",
       "      <td id=\"T_65adc_row7_col3\" class=\"data row7 col3\" >-0.182333</td>\n",
       "      <td id=\"T_65adc_row7_col4\" class=\"data row7 col4\" >0.096067</td>\n",
       "      <td id=\"T_65adc_row7_col5\" class=\"data row7 col5\" >0.159651</td>\n",
       "      <td id=\"T_65adc_row7_col6\" class=\"data row7 col6\" >0.216225</td>\n",
       "      <td id=\"T_65adc_row7_col7\" class=\"data row7 col7\" >1.000000</td>\n",
       "    </tr>\n",
       "  </tbody>\n",
       "</table>\n"
      ],
      "text/plain": [
       "<pandas.io.formats.style.Styler at 0x1fc51deaa30>"
      ]
     },
     "execution_count": 91,
     "metadata": {},
     "output_type": "execute_result"
    }
   ],
   "source": [
    "des=df.corr()\n",
    "df.corr().style.background_gradient(cmap=\"Greens\")"
   ]
  },
  {
   "cell_type": "code",
   "execution_count": 92,
   "id": "b4884e3b",
   "metadata": {},
   "outputs": [
    {
     "data": {
      "text/plain": [
       "<AxesSubplot:>"
      ]
     },
     "execution_count": 92,
     "metadata": {},
     "output_type": "execute_result"
    },
    {
     "data": {
      "image/png": "[encoded data removed]",
      "text/plain": [
       "<Figure size 640x480 with 1 Axes>"
      ]
     },
     "metadata": {},
     "output_type": "display_data"
    }
   ],
   "source": [
    "sns.barplot(data=des) #BarPlot Visualization for above dataset"
   ]
  },
  {
   "cell_type": "code",
   "execution_count": 93,
   "id": "0def09e2",
   "metadata": {},
   "outputs": [
    {
     "data": {
      "text/plain": [
       "<AxesSubplot:ylabel='Count'>"
      ]
     },
     "execution_count": 93,
     "metadata": {},
     "output_type": "execute_result"
    },
    {
     "data": {
      "image/png": "[encoded data removed]",
      "text/plain": [
       "<Figure size 640x480 with 1 Axes>"
      ]
     },
     "metadata": {},
     "output_type": "display_data"
    }
   ],
   "source": [
    "sns.histplot(data=des) #Histogram Visualization for above dataset"
   ]
  },
  {
   "cell_type": "markdown",
   "id": "0ff3ace7",
   "metadata": {},
   "source": [
    "**3. Implement Naïve Bayes method using scikit-learn library and report the accuracy.**"
   ]
  },
  {
   "cell_type": "code",
   "execution_count": 94,
   "id": "c298fbea",
   "metadata": {},
   "outputs": [],
   "source": [
    "train_raw = pd.read_csv('train.csv')\n",
    "test_raw = pd.read_csv('test.csv')\n",
    "\n",
    "# Join data to analyse and process the set as one.\n",
    "train_raw['train'] = 1\n",
    "test_raw['train'] = 0\n",
    "df = train_raw.append(test_raw, sort=False)\n",
    "\n",
    "features = ['Age', 'Embarked', 'Fare', 'Parch', 'Pclass', 'Sex', 'SibSp']\n",
    "target = 'Survived'\n",
    "\n",
    "df = df[features + [target] + ['train']]\n",
    "# Categorical values need to be transformed into numeric.\n",
    "df['Sex'] = df['Sex'].replace([\"female\", \"male\"], [0, 1])\n",
    "df['Embarked'] = df['Embarked'].replace(['S', 'C', 'Q'], [1, 2, 3])\n",
    "train = df.query('train == 1')\n",
    "test = df.query('train == 0')"
   ]
  },
  {
   "cell_type": "code",
   "execution_count": 95,
   "id": "6984db05",
   "metadata": {},
   "outputs": [],
   "source": [
    "# Drop missing values from the train set.\n",
    "train.dropna(axis=0, inplace=True)\n",
    "labels = train[target].values\n",
    "\n",
    "train.drop(['train', target, 'Pclass'], axis=1, inplace=True)\n",
    "test.drop(['train', target, 'Pclass'], axis=1, inplace=True)"
   ]
  },
  {
   "cell_type": "code",
   "execution_count": 96,
   "id": "2217a173",
   "metadata": {},
   "outputs": [],
   "source": [
    "from sklearn.model_selection import train_test_split, cross_validate\n",
    "\n",
    "X_train, X_val, Y_train, Y_val = train_test_split(train, labels, test_size=0.2, random_state=1)"
   ]
  },
  {
   "cell_type": "code",
   "execution_count": 97,
   "id": "4428da10",
   "metadata": {},
   "outputs": [],
   "source": [
    "import warnings\n",
    "import numpy as np\n",
    "import pandas as pd\n",
    "import seaborn as sns\n",
    "import matplotlib.pyplot as plt\n",
    "from scipy.stats.stats import pearsonr\n",
    "from sklearn.naive_bayes import GaussianNB\n",
    "from sklearn.model_selection import train_test_split\n",
    "from sklearn.metrics import accuracy_score, recall_score, precision_score, classification_report, confusion_matrix\n",
    "\n",
    "%matplotlib inline\n",
    "# Suppress warnings\n",
    "warnings.filterwarnings(\"ignore\")"
   ]
  },
  {
   "cell_type": "code",
   "execution_count": 98,
   "id": "fae13c65",
   "metadata": {},
   "outputs": [
    {
     "data": {
      "text/plain": [
       "GaussianNB()"
      ]
     },
     "execution_count": 98,
     "metadata": {},
     "output_type": "execute_result"
    }
   ],
   "source": [
    "classifier = GaussianNB()\n",
    "\n",
    "classifier.fit(X_train, Y_train)"
   ]
  },
  {
   "cell_type": "code",
   "execution_count": 99,
   "id": "3cfedc85",
   "metadata": {},
   "outputs": [
    {
     "name": "stdout",
     "output_type": "stream",
     "text": [
      "              precision    recall  f1-score   support\n",
      "\n",
      "         0.0       0.79      0.80      0.80        85\n",
      "         1.0       0.70      0.69      0.70        58\n",
      "\n",
      "    accuracy                           0.76       143\n",
      "   macro avg       0.75      0.74      0.75       143\n",
      "weighted avg       0.75      0.76      0.75       143\n",
      "\n",
      "[[68 17]\n",
      " [18 40]]\n",
      "accuracy is 0.7552447552447552\n"
     ]
    }
   ],
   "source": [
    "y_pred = classifier.predict(X_val)\n",
    "\n",
    "# Summary of the predictions made by the classifier\n",
    "print(classification_report(Y_val, y_pred))\n",
    "print(confusion_matrix(Y_val, y_pred))\n",
    "# Accuracy score\n",
    "from sklearn.metrics import accuracy_score\n",
    "print('accuracy is',accuracy_score(Y_val, y_pred))"
   ]
  },
  {
   "cell_type": "markdown",
   "id": "19cea9bb",
   "metadata": {},
   "source": [
    "# Question 2 - Glass Dataset "
   ]
  },
  {
   "cell_type": "markdown",
   "id": "e8dbfb6e",
   "metadata": {},
   "source": [
    "**1. Implement Naïve Bayes method using scikit-learn library.**"
   ]
  },
  {
   "cell_type": "markdown",
   "id": "a418bb9a",
   "metadata": {},
   "source": [
    "**a. Use the glass dataset available in Link also provided in your assignment.**"
   ]
  },
  {
   "cell_type": "code",
   "execution_count": 100,
   "id": "4081d677",
   "metadata": {},
   "outputs": [],
   "source": [
    "glass=pd.read_csv(\"glass.csv\") #importing glass dataset from given link"
   ]
  },
  {
   "cell_type": "code",
   "execution_count": 101,
   "id": "2a63a963",
   "metadata": {},
   "outputs": [
    {
     "data": {
      "text/html": [
       "<div>\n",
       "<style scoped>\n",
       "    .dataframe tbody tr th:only-of-type {\n",
       "        vertical-align: middle;\n",
       "    }\n",
       "\n",
       "    .dataframe tbody tr th {\n",
       "        vertical-align: top;\n",
       "    }\n",
       "\n",
       "    .dataframe thead th {\n",
       "        text-align: right;\n",
       "    }\n",
       "</style>\n",
       "<table border=\"1\" class=\"dataframe\">\n",
       "  <thead>\n",
       "    <tr style=\"text-align: right;\">\n",
       "      <th></th>\n",
       "      <th>RI</th>\n",
       "      <th>Na</th>\n",
       "      <th>Mg</th>\n",
       "      <th>Al</th>\n",
       "      <th>Si</th>\n",
       "      <th>K</th>\n",
       "      <th>Ca</th>\n",
       "      <th>Ba</th>\n",
       "      <th>Fe</th>\n",
       "      <th>Type</th>\n",
       "    </tr>\n",
       "  </thead>\n",
       "  <tbody>\n",
       "    <tr>\n",
       "      <th>0</th>\n",
       "      <td>1.52101</td>\n",
       "      <td>13.64</td>\n",
       "      <td>4.49</td>\n",
       "      <td>1.10</td>\n",
       "      <td>71.78</td>\n",
       "      <td>0.06</td>\n",
       "      <td>8.75</td>\n",
       "      <td>0.0</td>\n",
       "      <td>0.0</td>\n",
       "      <td>1</td>\n",
       "    </tr>\n",
       "    <tr>\n",
       "      <th>1</th>\n",
       "      <td>1.51761</td>\n",
       "      <td>13.89</td>\n",
       "      <td>3.60</td>\n",
       "      <td>1.36</td>\n",
       "      <td>72.73</td>\n",
       "      <td>0.48</td>\n",
       "      <td>7.83</td>\n",
       "      <td>0.0</td>\n",
       "      <td>0.0</td>\n",
       "      <td>1</td>\n",
       "    </tr>\n",
       "    <tr>\n",
       "      <th>2</th>\n",
       "      <td>1.51618</td>\n",
       "      <td>13.53</td>\n",
       "      <td>3.55</td>\n",
       "      <td>1.54</td>\n",
       "      <td>72.99</td>\n",
       "      <td>0.39</td>\n",
       "      <td>7.78</td>\n",
       "      <td>0.0</td>\n",
       "      <td>0.0</td>\n",
       "      <td>1</td>\n",
       "    </tr>\n",
       "    <tr>\n",
       "      <th>3</th>\n",
       "      <td>1.51766</td>\n",
       "      <td>13.21</td>\n",
       "      <td>3.69</td>\n",
       "      <td>1.29</td>\n",
       "      <td>72.61</td>\n",
       "      <td>0.57</td>\n",
       "      <td>8.22</td>\n",
       "      <td>0.0</td>\n",
       "      <td>0.0</td>\n",
       "      <td>1</td>\n",
       "    </tr>\n",
       "    <tr>\n",
       "      <th>4</th>\n",
       "      <td>1.51742</td>\n",
       "      <td>13.27</td>\n",
       "      <td>3.62</td>\n",
       "      <td>1.24</td>\n",
       "      <td>73.08</td>\n",
       "      <td>0.55</td>\n",
       "      <td>8.07</td>\n",
       "      <td>0.0</td>\n",
       "      <td>0.0</td>\n",
       "      <td>1</td>\n",
       "    </tr>\n",
       "  </tbody>\n",
       "</table>\n",
       "</div>"
      ],
      "text/plain": [
       "        RI     Na    Mg    Al     Si     K    Ca   Ba   Fe  Type\n",
       "0  1.52101  13.64  4.49  1.10  71.78  0.06  8.75  0.0  0.0     1\n",
       "1  1.51761  13.89  3.60  1.36  72.73  0.48  7.83  0.0  0.0     1\n",
       "2  1.51618  13.53  3.55  1.54  72.99  0.39  7.78  0.0  0.0     1\n",
       "3  1.51766  13.21  3.69  1.29  72.61  0.57  8.22  0.0  0.0     1\n",
       "4  1.51742  13.27  3.62  1.24  73.08  0.55  8.07  0.0  0.0     1"
      ]
     },
     "execution_count": 101,
     "metadata": {},
     "output_type": "execute_result"
    }
   ],
   "source": [
    "glass.head()"
   ]
  },
  {
   "cell_type": "code",
   "execution_count": 102,
   "id": "a4924fa0",
   "metadata": {},
   "outputs": [
    {
     "data": {
      "text/html": [
       "<style type=\"text/css\">\n",
       "#T_67596_row0_col0, #T_67596_row1_col1, #T_67596_row2_col2, #T_67596_row3_col3, #T_67596_row4_col4, #T_67596_row5_col5, #T_67596_row6_col6, #T_67596_row7_col7, #T_67596_row8_col8, #T_67596_row9_col9 {\n",
       "  background-color: #00441b;\n",
       "  color: #f1f1f1;\n",
       "}\n",
       "#T_67596_row0_col1 {\n",
       "  background-color: #eef8ea;\n",
       "  color: #000000;\n",
       "}\n",
       "#T_67596_row0_col2 {\n",
       "  background-color: #a7dba0;\n",
       "  color: #000000;\n",
       "}\n",
       "#T_67596_row0_col3 {\n",
       "  background-color: #f0f9ed;\n",
       "  color: #000000;\n",
       "}\n",
       "#T_67596_row0_col4, #T_67596_row1_col8, #T_67596_row2_col1, #T_67596_row2_col3, #T_67596_row2_col6, #T_67596_row2_col7, #T_67596_row2_col9, #T_67596_row4_col0, #T_67596_row6_col1, #T_67596_row6_col5, #T_67596_row9_col2 {\n",
       "  background-color: #f7fcf5;\n",
       "  color: #000000;\n",
       "}\n",
       "#T_67596_row0_col5 {\n",
       "  background-color: #f4fbf2;\n",
       "  color: #000000;\n",
       "}\n",
       "#T_67596_row0_col6 {\n",
       "  background-color: #016e2d;\n",
       "  color: #f1f1f1;\n",
       "}\n",
       "#T_67596_row0_col7, #T_67596_row4_col2 {\n",
       "  background-color: #afdfa8;\n",
       "  color: #000000;\n",
       "}\n",
       "#T_67596_row0_col8 {\n",
       "  background-color: #b5e1ae;\n",
       "  color: #000000;\n",
       "}\n",
       "#T_67596_row0_col9 {\n",
       "  background-color: #aedea7;\n",
       "  color: #000000;\n",
       "}\n",
       "#T_67596_row1_col0, #T_67596_row7_col6 {\n",
       "  background-color: #ccebc6;\n",
       "  color: #000000;\n",
       "}\n",
       "#T_67596_row1_col2, #T_67596_row2_col0 {\n",
       "  background-color: #c1e6ba;\n",
       "  color: #000000;\n",
       "}\n",
       "#T_67596_row1_col3, #T_67596_row5_col2 {\n",
       "  background-color: #8dd08a;\n",
       "  color: #000000;\n",
       "}\n",
       "#T_67596_row1_col4, #T_67596_row9_col6 {\n",
       "  background-color: #b6e2af;\n",
       "  color: #000000;\n",
       "}\n",
       "#T_67596_row1_col5, #T_67596_row9_col8 {\n",
       "  background-color: #f1faee;\n",
       "  color: #000000;\n",
       "}\n",
       "#T_67596_row1_col6 {\n",
       "  background-color: #e7f6e2;\n",
       "  color: #000000;\n",
       "}\n",
       "#T_67596_row1_col7 {\n",
       "  background-color: #60ba6c;\n",
       "  color: #f1f1f1;\n",
       "}\n",
       "#T_67596_row1_col9, #T_67596_row9_col7 {\n",
       "  background-color: #2b934b;\n",
       "  color: #f1f1f1;\n",
       "}\n",
       "#T_67596_row2_col4, #T_67596_row2_col5, #T_67596_row9_col0 {\n",
       "  background-color: #c9eac2;\n",
       "  color: #000000;\n",
       "}\n",
       "#T_67596_row2_col8, #T_67596_row4_col7 {\n",
       "  background-color: #c4e8bd;\n",
       "  color: #000000;\n",
       "}\n",
       "#T_67596_row3_col0, #T_67596_row5_col6 {\n",
       "  background-color: #ebf7e7;\n",
       "  color: #000000;\n",
       "}\n",
       "#T_67596_row3_col1 {\n",
       "  background-color: #acdea6;\n",
       "  color: #000000;\n",
       "}\n",
       "#T_67596_row3_col2, #T_67596_row6_col3 {\n",
       "  background-color: #dff3da;\n",
       "  color: #000000;\n",
       "}\n",
       "#T_67596_row3_col4, #T_67596_row7_col0 {\n",
       "  background-color: #a9dca3;\n",
       "  color: #000000;\n",
       "}\n",
       "#T_67596_row3_col5 {\n",
       "  background-color: #78c679;\n",
       "  color: #000000;\n",
       "}\n",
       "#T_67596_row3_col6 {\n",
       "  background-color: #e5f5e0;\n",
       "  color: #000000;\n",
       "}\n",
       "#T_67596_row3_col7, #T_67596_row7_col3 {\n",
       "  background-color: #3ba458;\n",
       "  color: #f1f1f1;\n",
       "}\n",
       "#T_67596_row3_col8 {\n",
       "  background-color: #e3f4de;\n",
       "  color: #000000;\n",
       "}\n",
       "#T_67596_row3_col9 {\n",
       "  background-color: #1d8640;\n",
       "  color: #f1f1f1;\n",
       "}\n",
       "#T_67596_row4_col1, #T_67596_row4_col6, #T_67596_row5_col0 {\n",
       "  background-color: #dcf2d7;\n",
       "  color: #000000;\n",
       "}\n",
       "#T_67596_row4_col3 {\n",
       "  background-color: #b1e0ab;\n",
       "  color: #000000;\n",
       "}\n",
       "#T_67596_row4_col5 {\n",
       "  background-color: #e9f7e5;\n",
       "  color: #000000;\n",
       "}\n",
       "#T_67596_row4_col8 {\n",
       "  background-color: #e6f5e1;\n",
       "  color: #000000;\n",
       "}\n",
       "#T_67596_row4_col9 {\n",
       "  background-color: #6ec173;\n",
       "  color: #000000;\n",
       "}\n",
       "#T_67596_row5_col1 {\n",
       "  background-color: #f6fcf4;\n",
       "  color: #000000;\n",
       "}\n",
       "#T_67596_row5_col3 {\n",
       "  background-color: #62bb6d;\n",
       "  color: #f1f1f1;\n",
       "}\n",
       "#T_67596_row5_col4 {\n",
       "  background-color: #cdecc7;\n",
       "  color: #000000;\n",
       "}\n",
       "#T_67596_row5_col7 {\n",
       "  background-color: #b7e2b1;\n",
       "  color: #000000;\n",
       "}\n",
       "#T_67596_row5_col8 {\n",
       "  background-color: #d6efd0;\n",
       "  color: #000000;\n",
       "}\n",
       "#T_67596_row5_col9 {\n",
       "  background-color: #91d28e;\n",
       "  color: #000000;\n",
       "}\n",
       "#T_67596_row6_col0 {\n",
       "  background-color: #006c2c;\n",
       "  color: #f1f1f1;\n",
       "}\n",
       "#T_67596_row6_col2 {\n",
       "  background-color: #daf0d4;\n",
       "  color: #000000;\n",
       "}\n",
       "#T_67596_row6_col4 {\n",
       "  background-color: #cfecc9;\n",
       "  color: #000000;\n",
       "}\n",
       "#T_67596_row6_col7 {\n",
       "  background-color: #c6e8bf;\n",
       "  color: #000000;\n",
       "}\n",
       "#T_67596_row6_col8 {\n",
       "  background-color: #bae3b3;\n",
       "  color: #000000;\n",
       "}\n",
       "#T_67596_row6_col9 {\n",
       "  background-color: #8ed08b;\n",
       "  color: #000000;\n",
       "}\n",
       "#T_67596_row7_col1 {\n",
       "  background-color: #7fc97f;\n",
       "  color: #000000;\n",
       "}\n",
       "#T_67596_row7_col2, #T_67596_row7_col8 {\n",
       "  background-color: #e0f3db;\n",
       "  color: #000000;\n",
       "}\n",
       "#T_67596_row7_col4 {\n",
       "  background-color: #bce4b5;\n",
       "  color: #000000;\n",
       "}\n",
       "#T_67596_row7_col5 {\n",
       "  background-color: #d1edcb;\n",
       "  color: #000000;\n",
       "}\n",
       "#T_67596_row7_col9 {\n",
       "  background-color: #218944;\n",
       "  color: #f1f1f1;\n",
       "}\n",
       "#T_67596_row8_col0 {\n",
       "  background-color: #88ce87;\n",
       "  color: #000000;\n",
       "}\n",
       "#T_67596_row8_col1 {\n",
       "  background-color: #f4fbf1;\n",
       "  color: #000000;\n",
       "}\n",
       "#T_67596_row8_col2 {\n",
       "  background-color: #7dc87e;\n",
       "  color: #000000;\n",
       "}\n",
       "#T_67596_row8_col3 {\n",
       "  background-color: #c0e6b9;\n",
       "  color: #000000;\n",
       "}\n",
       "#T_67596_row8_col4, #T_67596_row8_col7 {\n",
       "  background-color: #bbe4b4;\n",
       "  color: #000000;\n",
       "}\n",
       "#T_67596_row8_col5 {\n",
       "  background-color: #cbeac4;\n",
       "  color: #000000;\n",
       "}\n",
       "#T_67596_row8_col6 {\n",
       "  background-color: #9bd696;\n",
       "  color: #000000;\n",
       "}\n",
       "#T_67596_row8_col9 {\n",
       "  background-color: #b2e0ac;\n",
       "  color: #000000;\n",
       "}\n",
       "#T_67596_row9_col1 {\n",
       "  background-color: #46ae60;\n",
       "  color: #f1f1f1;\n",
       "}\n",
       "#T_67596_row9_col3 {\n",
       "  background-color: #289049;\n",
       "  color: #f1f1f1;\n",
       "}\n",
       "#T_67596_row9_col4 {\n",
       "  background-color: #86cc85;\n",
       "  color: #000000;\n",
       "}\n",
       "#T_67596_row9_col5 {\n",
       "  background-color: #cbebc5;\n",
       "  color: #000000;\n",
       "}\n",
       "</style>\n",
       "<table id=\"T_67596\">\n",
       "  <thead>\n",
       "    <tr>\n",
       "      <th class=\"blank level0\" >&nbsp;</th>\n",
       "      <th id=\"T_67596_level0_col0\" class=\"col_heading level0 col0\" >RI</th>\n",
       "      <th id=\"T_67596_level0_col1\" class=\"col_heading level0 col1\" >Na</th>\n",
       "      <th id=\"T_67596_level0_col2\" class=\"col_heading level0 col2\" >Mg</th>\n",
       "      <th id=\"T_67596_level0_col3\" class=\"col_heading level0 col3\" >Al</th>\n",
       "      <th id=\"T_67596_level0_col4\" class=\"col_heading level0 col4\" >Si</th>\n",
       "      <th id=\"T_67596_level0_col5\" class=\"col_heading level0 col5\" >K</th>\n",
       "      <th id=\"T_67596_level0_col6\" class=\"col_heading level0 col6\" >Ca</th>\n",
       "      <th id=\"T_67596_level0_col7\" class=\"col_heading level0 col7\" >Ba</th>\n",
       "      <th id=\"T_67596_level0_col8\" class=\"col_heading level0 col8\" >Fe</th>\n",
       "      <th id=\"T_67596_level0_col9\" class=\"col_heading level0 col9\" >Type</th>\n",
       "    </tr>\n",
       "  </thead>\n",
       "  <tbody>\n",
       "    <tr>\n",
       "      <th id=\"T_67596_level0_row0\" class=\"row_heading level0 row0\" >RI</th>\n",
       "      <td id=\"T_67596_row0_col0\" class=\"data row0 col0\" >1.000000</td>\n",
       "      <td id=\"T_67596_row0_col1\" class=\"data row0 col1\" >-0.191885</td>\n",
       "      <td id=\"T_67596_row0_col2\" class=\"data row0 col2\" >-0.122274</td>\n",
       "      <td id=\"T_67596_row0_col3\" class=\"data row0 col3\" >-0.407326</td>\n",
       "      <td id=\"T_67596_row0_col4\" class=\"data row0 col4\" >-0.542052</td>\n",
       "      <td id=\"T_67596_row0_col5\" class=\"data row0 col5\" >-0.289833</td>\n",
       "      <td id=\"T_67596_row0_col6\" class=\"data row0 col6\" >0.810403</td>\n",
       "      <td id=\"T_67596_row0_col7\" class=\"data row0 col7\" >-0.000386</td>\n",
       "      <td id=\"T_67596_row0_col8\" class=\"data row0 col8\" >0.143010</td>\n",
       "      <td id=\"T_67596_row0_col9\" class=\"data row0 col9\" >-0.164237</td>\n",
       "    </tr>\n",
       "    <tr>\n",
       "      <th id=\"T_67596_level0_row1\" class=\"row_heading level0 row1\" >Na</th>\n",
       "      <td id=\"T_67596_row1_col0\" class=\"data row1 col0\" >-0.191885</td>\n",
       "      <td id=\"T_67596_row1_col1\" class=\"data row1 col1\" >1.000000</td>\n",
       "      <td id=\"T_67596_row1_col2\" class=\"data row1 col2\" >-0.273732</td>\n",
       "      <td id=\"T_67596_row1_col3\" class=\"data row1 col3\" >0.156794</td>\n",
       "      <td id=\"T_67596_row1_col4\" class=\"data row1 col4\" >-0.069809</td>\n",
       "      <td id=\"T_67596_row1_col5\" class=\"data row1 col5\" >-0.266087</td>\n",
       "      <td id=\"T_67596_row1_col6\" class=\"data row1 col6\" >-0.275442</td>\n",
       "      <td id=\"T_67596_row1_col7\" class=\"data row1 col7\" >0.326603</td>\n",
       "      <td id=\"T_67596_row1_col8\" class=\"data row1 col8\" >-0.241346</td>\n",
       "      <td id=\"T_67596_row1_col9\" class=\"data row1 col9\" >0.502898</td>\n",
       "    </tr>\n",
       "    <tr>\n",
       "      <th id=\"T_67596_level0_row2\" class=\"row_heading level0 row2\" >Mg</th>\n",
       "      <td id=\"T_67596_row2_col0\" class=\"data row2 col0\" >-0.122274</td>\n",
       "      <td id=\"T_67596_row2_col1\" class=\"data row2 col1\" >-0.273732</td>\n",
       "      <td id=\"T_67596_row2_col2\" class=\"data row2 col2\" >1.000000</td>\n",
       "      <td id=\"T_67596_row2_col3\" class=\"data row2 col3\" >-0.481799</td>\n",
       "      <td id=\"T_67596_row2_col4\" class=\"data row2 col4\" >-0.165927</td>\n",
       "      <td id=\"T_67596_row2_col5\" class=\"data row2 col5\" >0.005396</td>\n",
       "      <td id=\"T_67596_row2_col6\" class=\"data row2 col6\" >-0.443750</td>\n",
       "      <td id=\"T_67596_row2_col7\" class=\"data row2 col7\" >-0.492262</td>\n",
       "      <td id=\"T_67596_row2_col8\" class=\"data row2 col8\" >0.083060</td>\n",
       "      <td id=\"T_67596_row2_col9\" class=\"data row2 col9\" >-0.744993</td>\n",
       "    </tr>\n",
       "    <tr>\n",
       "      <th id=\"T_67596_level0_row3\" class=\"row_heading level0 row3\" >Al</th>\n",
       "      <td id=\"T_67596_row3_col0\" class=\"data row3 col0\" >-0.407326</td>\n",
       "      <td id=\"T_67596_row3_col1\" class=\"data row3 col1\" >0.156794</td>\n",
       "      <td id=\"T_67596_row3_col2\" class=\"data row3 col2\" >-0.481799</td>\n",
       "      <td id=\"T_67596_row3_col3\" class=\"data row3 col3\" >1.000000</td>\n",
       "      <td id=\"T_67596_row3_col4\" class=\"data row3 col4\" >-0.005524</td>\n",
       "      <td id=\"T_67596_row3_col5\" class=\"data row3 col5\" >0.325958</td>\n",
       "      <td id=\"T_67596_row3_col6\" class=\"data row3 col6\" >-0.259592</td>\n",
       "      <td id=\"T_67596_row3_col7\" class=\"data row3 col7\" >0.479404</td>\n",
       "      <td id=\"T_67596_row3_col8\" class=\"data row3 col8\" >-0.074402</td>\n",
       "      <td id=\"T_67596_row3_col9\" class=\"data row3 col9\" >0.598829</td>\n",
       "    </tr>\n",
       "    <tr>\n",
       "      <th id=\"T_67596_level0_row4\" class=\"row_heading level0 row4\" >Si</th>\n",
       "      <td id=\"T_67596_row4_col0\" class=\"data row4 col0\" >-0.542052</td>\n",
       "      <td id=\"T_67596_row4_col1\" class=\"data row4 col1\" >-0.069809</td>\n",
       "      <td id=\"T_67596_row4_col2\" class=\"data row4 col2\" >-0.165927</td>\n",
       "      <td id=\"T_67596_row4_col3\" class=\"data row4 col3\" >-0.005524</td>\n",
       "      <td id=\"T_67596_row4_col4\" class=\"data row4 col4\" >1.000000</td>\n",
       "      <td id=\"T_67596_row4_col5\" class=\"data row4 col5\" >-0.193331</td>\n",
       "      <td id=\"T_67596_row4_col6\" class=\"data row4 col6\" >-0.208732</td>\n",
       "      <td id=\"T_67596_row4_col7\" class=\"data row4 col7\" >-0.102151</td>\n",
       "      <td id=\"T_67596_row4_col8\" class=\"data row4 col8\" >-0.094201</td>\n",
       "      <td id=\"T_67596_row4_col9\" class=\"data row4 col9\" >0.151565</td>\n",
       "    </tr>\n",
       "    <tr>\n",
       "      <th id=\"T_67596_level0_row5\" class=\"row_heading level0 row5\" >K</th>\n",
       "      <td id=\"T_67596_row5_col0\" class=\"data row5 col0\" >-0.289833</td>\n",
       "      <td id=\"T_67596_row5_col1\" class=\"data row5 col1\" >-0.266087</td>\n",
       "      <td id=\"T_67596_row5_col2\" class=\"data row5 col2\" >0.005396</td>\n",
       "      <td id=\"T_67596_row5_col3\" class=\"data row5 col3\" >0.325958</td>\n",
       "      <td id=\"T_67596_row5_col4\" class=\"data row5 col4\" >-0.193331</td>\n",
       "      <td id=\"T_67596_row5_col5\" class=\"data row5 col5\" >1.000000</td>\n",
       "      <td id=\"T_67596_row5_col6\" class=\"data row5 col6\" >-0.317836</td>\n",
       "      <td id=\"T_67596_row5_col7\" class=\"data row5 col7\" >-0.042618</td>\n",
       "      <td id=\"T_67596_row5_col8\" class=\"data row5 col8\" >-0.007719</td>\n",
       "      <td id=\"T_67596_row5_col9\" class=\"data row5 col9\" >-0.010054</td>\n",
       "    </tr>\n",
       "    <tr>\n",
       "      <th id=\"T_67596_level0_row6\" class=\"row_heading level0 row6\" >Ca</th>\n",
       "      <td id=\"T_67596_row6_col0\" class=\"data row6 col0\" >0.810403</td>\n",
       "      <td id=\"T_67596_row6_col1\" class=\"data row6 col1\" >-0.275442</td>\n",
       "      <td id=\"T_67596_row6_col2\" class=\"data row6 col2\" >-0.443750</td>\n",
       "      <td id=\"T_67596_row6_col3\" class=\"data row6 col3\" >-0.259592</td>\n",
       "      <td id=\"T_67596_row6_col4\" class=\"data row6 col4\" >-0.208732</td>\n",
       "      <td id=\"T_67596_row6_col5\" class=\"data row6 col5\" >-0.317836</td>\n",
       "      <td id=\"T_67596_row6_col6\" class=\"data row6 col6\" >1.000000</td>\n",
       "      <td id=\"T_67596_row6_col7\" class=\"data row6 col7\" >-0.112841</td>\n",
       "      <td id=\"T_67596_row6_col8\" class=\"data row6 col8\" >0.124968</td>\n",
       "      <td id=\"T_67596_row6_col9\" class=\"data row6 col9\" >0.000952</td>\n",
       "    </tr>\n",
       "    <tr>\n",
       "      <th id=\"T_67596_level0_row7\" class=\"row_heading level0 row7\" >Ba</th>\n",
       "      <td id=\"T_67596_row7_col0\" class=\"data row7 col0\" >-0.000386</td>\n",
       "      <td id=\"T_67596_row7_col1\" class=\"data row7 col1\" >0.326603</td>\n",
       "      <td id=\"T_67596_row7_col2\" class=\"data row7 col2\" >-0.492262</td>\n",
       "      <td id=\"T_67596_row7_col3\" class=\"data row7 col3\" >0.479404</td>\n",
       "      <td id=\"T_67596_row7_col4\" class=\"data row7 col4\" >-0.102151</td>\n",
       "      <td id=\"T_67596_row7_col5\" class=\"data row7 col5\" >-0.042618</td>\n",
       "      <td id=\"T_67596_row7_col6\" class=\"data row7 col6\" >-0.112841</td>\n",
       "      <td id=\"T_67596_row7_col7\" class=\"data row7 col7\" >1.000000</td>\n",
       "      <td id=\"T_67596_row7_col8\" class=\"data row7 col8\" >-0.058692</td>\n",
       "      <td id=\"T_67596_row7_col9\" class=\"data row7 col9\" >0.575161</td>\n",
       "    </tr>\n",
       "    <tr>\n",
       "      <th id=\"T_67596_level0_row8\" class=\"row_heading level0 row8\" >Fe</th>\n",
       "      <td id=\"T_67596_row8_col0\" class=\"data row8 col0\" >0.143010</td>\n",
       "      <td id=\"T_67596_row8_col1\" class=\"data row8 col1\" >-0.241346</td>\n",
       "      <td id=\"T_67596_row8_col2\" class=\"data row8 col2\" >0.083060</td>\n",
       "      <td id=\"T_67596_row8_col3\" class=\"data row8 col3\" >-0.074402</td>\n",
       "      <td id=\"T_67596_row8_col4\" class=\"data row8 col4\" >-0.094201</td>\n",
       "      <td id=\"T_67596_row8_col5\" class=\"data row8 col5\" >-0.007719</td>\n",
       "      <td id=\"T_67596_row8_col6\" class=\"data row8 col6\" >0.124968</td>\n",
       "      <td id=\"T_67596_row8_col7\" class=\"data row8 col7\" >-0.058692</td>\n",
       "      <td id=\"T_67596_row8_col8\" class=\"data row8 col8\" >1.000000</td>\n",
       "      <td id=\"T_67596_row8_col9\" class=\"data row8 col9\" >-0.188278</td>\n",
       "    </tr>\n",
       "    <tr>\n",
       "      <th id=\"T_67596_level0_row9\" class=\"row_heading level0 row9\" >Type</th>\n",
       "      <td id=\"T_67596_row9_col0\" class=\"data row9 col0\" >-0.164237</td>\n",
       "      <td id=\"T_67596_row9_col1\" class=\"data row9 col1\" >0.502898</td>\n",
       "      <td id=\"T_67596_row9_col2\" class=\"data row9 col2\" >-0.744993</td>\n",
       "      <td id=\"T_67596_row9_col3\" class=\"data row9 col3\" >0.598829</td>\n",
       "      <td id=\"T_67596_row9_col4\" class=\"data row9 col4\" >0.151565</td>\n",
       "      <td id=\"T_67596_row9_col5\" class=\"data row9 col5\" >-0.010054</td>\n",
       "      <td id=\"T_67596_row9_col6\" class=\"data row9 col6\" >0.000952</td>\n",
       "      <td id=\"T_67596_row9_col7\" class=\"data row9 col7\" >0.575161</td>\n",
       "      <td id=\"T_67596_row9_col8\" class=\"data row9 col8\" >-0.188278</td>\n",
       "      <td id=\"T_67596_row9_col9\" class=\"data row9 col9\" >1.000000</td>\n",
       "    </tr>\n",
       "  </tbody>\n",
       "</table>\n"
      ],
      "text/plain": [
       "<pandas.io.formats.style.Styler at 0x1fc550164f0>"
      ]
     },
     "execution_count": 102,
     "metadata": {},
     "output_type": "execute_result"
    }
   ],
   "source": [
    "des=glass.corr()\n",
    "glass.corr().style.background_gradient(cmap=\"Greens\")"
   ]
  },
  {
   "cell_type": "markdown",
   "id": "27b05251",
   "metadata": {},
   "source": [
    "**b. Use train_test_split to create training and testing part.**"
   ]
  },
  {
   "cell_type": "code",
   "execution_count": 103,
   "id": "627db8b6",
   "metadata": {},
   "outputs": [],
   "source": [
    "features = ['Rl', 'Na', 'Mg', 'Al', 'Si', 'K', 'Ca', 'Ba', 'Fe']\n",
    "target = 'Type'\n",
    "\n",
    "\n",
    "X_train, X_val, Y_train, Y_val = train_test_split(glass[::-1], glass[target],test_size=0.2, random_state=1)\n"
   ]
  },
  {
   "cell_type": "markdown",
   "id": "95880d1e",
   "metadata": {},
   "source": [
    "**2. Evaluate the model on testing part using score and\n",
    "classification_report(y_true, y_pred)**"
   ]
  },
  {
   "cell_type": "code",
   "execution_count": 104,
   "id": "f61a41d6",
   "metadata": {},
   "outputs": [
    {
     "name": "stdout",
     "output_type": "stream",
     "text": [
      "              precision    recall  f1-score   support\n",
      "\n",
      "           1       0.90      0.95      0.92        19\n",
      "           2       0.92      0.92      0.92        12\n",
      "           3       1.00      0.50      0.67         6\n",
      "           5       0.00      0.00      0.00         1\n",
      "           6       1.00      1.00      1.00         1\n",
      "           7       0.75      0.75      0.75         4\n",
      "\n",
      "    accuracy                           0.84        43\n",
      "   macro avg       0.76      0.69      0.71        43\n",
      "weighted avg       0.89      0.84      0.85        43\n",
      "\n",
      "[[18  1  0  0  0  0]\n",
      " [ 1 11  0  0  0  0]\n",
      " [ 1  0  3  2  0  0]\n",
      " [ 0  0  0  0  0  1]\n",
      " [ 0  0  0  0  1  0]\n",
      " [ 0  0  0  1  0  3]]\n",
      "\n",
      "accuracy is 0.8372093023255814\n"
     ]
    }
   ],
   "source": [
    "classifier = GaussianNB()\n",
    "\n",
    "classifier.fit(X_train, Y_train)\n",
    "\n",
    "\n",
    "y_pred = classifier.predict(X_val)\n",
    "\n",
    "# Summary of the predictions made by the classifier\n",
    "print(classification_report(Y_val, y_pred))\n",
    "print(confusion_matrix(Y_val, y_pred))\n",
    "# Accuracy score\n",
    "from sklearn.metrics import accuracy_score\n",
    "print('\\naccuracy is',accuracy_score(Y_val, y_pred))"
   ]
  },
  {
   "cell_type": "markdown",
   "id": "73797681",
   "metadata": {},
   "source": [
    "**1. Implement linear SVM method using scikit library**"
   ]
  },
  {
   "cell_type": "markdown",
   "id": "6075c69d",
   "metadata": {},
   "source": [
    "We have already imported the glass dataset and also used train_test_split() method to split the dataset into train dataset and test dataset while implementing Naïve Bayes method."
   ]
  },
  {
   "cell_type": "code",
   "execution_count": 105,
   "id": "23599b91",
   "metadata": {},
   "outputs": [
    {
     "data": {
      "text/plain": [
       "LinearSVC()"
      ]
     },
     "execution_count": 105,
     "metadata": {},
     "output_type": "execute_result"
    }
   ],
   "source": [
    "from sklearn.svm import SVC, LinearSVC\n",
    "classifier = LinearSVC()\n",
    "\n",
    "classifier.fit(X_train, Y_train)"
   ]
  },
  {
   "cell_type": "markdown",
   "id": "652c3c05",
   "metadata": {},
   "source": [
    "**2. Evaluate the model on testing part using score and classification_report(y_true, y_pred)**"
   ]
  },
  {
   "cell_type": "code",
   "execution_count": 106,
   "id": "e9532118",
   "metadata": {},
   "outputs": [
    {
     "name": "stdout",
     "output_type": "stream",
     "text": [
      "              precision    recall  f1-score   support\n",
      "\n",
      "           1       1.00      0.95      0.97        19\n",
      "           2       0.00      0.00      0.00        12\n",
      "           3       0.00      0.00      0.00         6\n",
      "           5       0.00      0.00      0.00         1\n",
      "           6       0.05      1.00      0.10         1\n",
      "           7       0.00      0.00      0.00         4\n",
      "\n",
      "    accuracy                           0.44        43\n",
      "   macro avg       0.18      0.32      0.18        43\n",
      "weighted avg       0.44      0.44      0.43        43\n",
      "\n",
      "[[18  0  0  0  1  0]\n",
      " [ 0  0  0  1 11  0]\n",
      " [ 0  0  0  3  3  0]\n",
      " [ 0  0  0  0  1  0]\n",
      " [ 0  0  0  0  1  0]\n",
      " [ 0  0  0  1  3  0]]\n",
      "\n",
      "accuracy is 0.4418604651162791\n"
     ]
    }
   ],
   "source": [
    "y_pred = classifier.predict(X_val)\n",
    "\n",
    "# Summary of the predictions made by the classifier\n",
    "print(classification_report(Y_val, y_pred))\n",
    "print(confusion_matrix(Y_val, y_pred))\n",
    "# Accuracy score\n",
    "from sklearn.metrics import accuracy_score\n",
    "print('\\naccuracy is',accuracy_score(Y_val, y_pred))"
   ]
  },
  {
   "cell_type": "markdown",
   "id": "7bb5d9bb",
   "metadata": {},
   "source": [
    "**Do at least two visualizations to describe or show correlations in the Glass Dataset.**"
   ]
  },
  {
   "cell_type": "code",
   "execution_count": 107,
   "id": "14e33b2a",
   "metadata": {},
   "outputs": [
    {
     "data": {
      "text/plain": [
       "<AxesSubplot:>"
      ]
     },
     "execution_count": 107,
     "metadata": {},
     "output_type": "execute_result"
    },
    {
     "data": {
      "image/png": "[encoded data removed]",
      "text/plain": [
       "<Figure size 640x480 with 2 Axes>"
      ]
     },
     "metadata": {},
     "output_type": "display_data"
    }
   ],
   "source": [
    "sns.heatmap(data=glass) #HeatMap Visualization for above dataset"
   ]
  },
  {
   "cell_type": "code",
   "execution_count": 108,
   "id": "6ad202a0",
   "metadata": {},
   "outputs": [
    {
     "data": {
      "text/plain": [
       "<AxesSubplot:>"
      ]
     },
     "execution_count": 108,
     "metadata": {},
     "output_type": "execute_result"
    },
    {
     "data": {
      "image/png": "[encoded data removed]",
      "text/plain": [
       "<Figure size 640x480 with 1 Axes>"
      ]
     },
     "metadata": {},
     "output_type": "display_data"
    }
   ],
   "source": [
    "sns.scatterplot(data=glass)  #ScatterPlot Visualization for above dataset"
   ]
  },
  {
   "cell_type": "markdown",
   "id": "2598a7b5",
   "metadata": {},
   "source": [
    "**Which algorithm you got better accuracy? Can you justify why?**"
   ]
  },
  {
   "cell_type": "markdown",
   "id": "eafed9a2",
   "metadata": {},
   "source": [
    "According to the above accuracy scores Naive Bayes method is best for data visualization than that of Support Vector Machine method.\n",
    "The performance of the each algorithm depends on several factors. So, few algorithms works well for only few of the problems and does not work well for other problems. By evaluating the model using various algorithms we can compare and then state which one is best."
   ]
  }
 ],
 "metadata": {
  "kernelspec": {
   "display_name": "Python 3 (ipykernel)",
   "language": "python",
   "name": "python3"
  },
  "language_info": {
   "codemirror_mode": {
    "name": "ipython",
    "version": 3
   },
   "file_extension": ".py",
   "mimetype": "text/x-python",
   "name": "python",
   "nbconvert_exporter": "python",
   "pygments_lexer": "ipython3",
   "version": "3.9.13"
  }
 },
 "nbformat": 4,
 "nbformat_minor": 5
}
